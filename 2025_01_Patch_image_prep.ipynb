{
 "cells": [
  {
   "cell_type": "code",
   "execution_count": null,
   "id": "df4957de",
   "metadata": {},
   "outputs": [],
   "source": [
    "###\n",
    "# This code processes Whole Slide Images (WSI) that have been scanned in formats such as NDPI, VSI, and SVS, \n",
    "# then compressed to 1/8 of their original dimensions and saved as PNG images. \n",
    "# Using these compressed images along with their corresponding YOLO annotations, \n",
    "# the code generates patch images. \n",
    "# The example provided uses a crop size of 680 pixels, which can be adjusted as needed.\n",
    "###"
   ]
  },
  {
   "cell_type": "code",
   "execution_count": null,
   "id": "7f011bbd",
   "metadata": {},
   "outputs": [],
   "source": [
    "import os, glob, shutil, tifffile, json, pathlib\n",
    "import numpy as np\n",
    "import matplotlib.pyplot as plt\n",
    "from PIL import Image, ImageFilter, ImageDraw \n",
    "from joblib import Parallel, delayed\n",
    "from tqdm import tqdm_notebook as tqdm\n",
    "from collections import Counter\n",
    "import warnings\n",
    "warnings.simplefilter('ignore', Image.DecompressionBombWarning)\n",
    "\n",
    "seed = 0\n",
    "\n",
    "Image.MAX_IMAGE_PIXELS = None\n",
    "%matplotlib inline"
   ]
  },
  {
   "cell_type": "code",
   "execution_count": null,
   "id": "5c664a47",
   "metadata": {},
   "outputs": [],
   "source": [
    "# Assuming images and labels are saved in the same directory\n",
    "\n",
    "img_d = '/PATH/TO/YOUR/DIRECTORY'\n",
    "label_d = img_d\n",
    "imgs = sorted(glob.glob(img_d + '/*.png'))\n",
    "labels = sorted(glob.glob(label_d + '/*.txt'))\n",
    "print(len(imgs))\n",
    "print(len(labels))"
   ]
  },
  {
   "cell_type": "code",
   "execution_count": null,
   "id": "56a61cb6",
   "metadata": {},
   "outputs": [],
   "source": [
    "imgs_base = [os.path.basename(i) for i in imgs]\n",
    "labels_base = [os.path.basename(i) for i in labels]\n",
    "\n",
    "for i, j in zip(imgs_base, labels_base):\n",
    "    if os.path.splitext(i)[0] != os.path.splitext(j)[0]:\n",
    "        print(i)"
   ]
  },
  {
   "cell_type": "code",
   "execution_count": null,
   "id": "9cd30068",
   "metadata": {},
   "outputs": [],
   "source": [
    "### duplecate check ####"
   ]
  },
  {
   "cell_type": "code",
   "execution_count": null,
   "id": "cdc40b06",
   "metadata": {},
   "outputs": [],
   "source": [
    "def find_duplicates(file_path):\n",
    "    with open(file_path, 'r') as file:\n",
    "        lines = file.readlines()\n",
    "\n",
    "    line_set = set()\n",
    "    duplicates = False\n",
    "\n",
    "    for line in lines:\n",
    "        if line.strip() in line_set:\n",
    "            duplicates = True\n",
    "            break\n",
    "        else:\n",
    "            line_set.add(line.strip())\n",
    "\n",
    "    return duplicates\n",
    "\n",
    "def scan_directory_for_duplicates(directory):\n",
    "    duplicate_files = []\n",
    "\n",
    "    for filename in os.listdir(directory):\n",
    "        if filename.endswith('.txt'):\n",
    "            file_path = os.path.join(directory, filename)\n",
    "            if find_duplicates(file_path):\n",
    "                duplicate_files.append(filename)\n",
    "\n",
    "    return duplicate_files\n",
    "\n",
    "directory_path = label_d\n",
    "duplicate_files = scan_directory_for_duplicates(directory_path)\n",
    "\n",
    "print(\"file with duplicate:\")\n",
    "for file in duplicate_files:\n",
    "    print(file)"
   ]
  },
  {
   "cell_type": "code",
   "execution_count": null,
   "id": "c44af04f",
   "metadata": {},
   "outputs": [],
   "source": [
    "def remove_duplicates(file_path):\n",
    "    with open(file_path, 'r') as file:\n",
    "        lines = file.readlines()\n",
    "\n",
    "    unique_data = set()\n",
    "    new_lines = []\n",
    "\n",
    "    for line in lines:\n",
    "        if line.strip() not in unique_data:\n",
    "            unique_data.add(line.strip())\n",
    "            new_lines.append(line)\n",
    "\n",
    "    with open(file_path, 'w') as file:\n",
    "        file.writelines(new_lines)\n",
    "\n",
    "def process_directory(directory):\n",
    "    for filename in os.listdir(directory):\n",
    "        if filename.endswith('.txt'):\n",
    "            remove_duplicates(os.path.join(directory, filename))\n",
    "            \n",
    "directory_path = label_d\n",
    "process_directory(directory_path)"
   ]
  },
  {
   "cell_type": "code",
   "execution_count": null,
   "id": "e1ed200d",
   "metadata": {},
   "outputs": [],
   "source": [
    "directory_path = label_d\n",
    "duplicate_files = scan_directory_for_duplicates(directory_path)\n",
    "\n",
    "print(\"file with duplicate:\")\n",
    "for file in duplicate_files:\n",
    "    print(file)"
   ]
  },
  {
   "cell_type": "code",
   "execution_count": null,
   "id": "d3e71d04",
   "metadata": {},
   "outputs": [],
   "source": [
    "imgs = sorted(glob.glob(img_d + '/*.png'))\n",
    "labels = sorted(glob.glob(label_d + '/*.txt'))\n",
    "print(len(imgs))\n",
    "print(len(labels))"
   ]
  },
  {
   "cell_type": "code",
   "execution_count": null,
   "id": "0cf5c91b",
   "metadata": {},
   "outputs": [],
   "source": [
    "##### "
   ]
  },
  {
   "cell_type": "code",
   "execution_count": null,
   "id": "fb791ba0",
   "metadata": {},
   "outputs": [],
   "source": [
    "x = []\n",
    "y = []\n",
    "for i in imgs:\n",
    "    temp = Image.open(i)\n",
    "    x.append(temp.size[0])\n",
    "    y.append(temp.size[1])\n",
    "print(max(x))\n",
    "print(max(y))\n",
    "print(min(x))\n",
    "print(min(y))"
   ]
  },
  {
   "cell_type": "code",
   "execution_count": null,
   "id": "7475bf8a",
   "metadata": {},
   "outputs": [],
   "source": [
    "plt.hist(x)\n",
    "plt.hist(y)"
   ]
  },
  {
   "cell_type": "code",
   "execution_count": null,
   "id": "8b10af5a",
   "metadata": {},
   "outputs": [],
   "source": [
    "def process_image(i, j, grid, crop_save_dir):\n",
    "    img_pil = Image.open(i)\n",
    "    img_w = img_pil.size[0]\n",
    "    img_h = img_pil.size[1]\n",
    "    range_x = img_w // grid\n",
    "    range_y = img_h // grid\n",
    "\n",
    "    with open(j) as f:\n",
    "        s = [r.rstrip() for r in f.readlines()]\n",
    "        s = [r.split(' ') for r in s]\n",
    "    x1, y1, x2, y2, class_na = [], [], [], [], []\n",
    "    for k in s:\n",
    "        x_center = int(float(k[1]) * int(img_w))\n",
    "        y_center = int(float(k[2]) * int(img_h))\n",
    "        x_width = int(float(k[3]) * int(img_w))\n",
    "        y_width = int(float(k[4]) * int(img_h))\n",
    "        x1.append(int(x_center - (0.5*x_width)))\n",
    "        y1.append(int(y_center - (0.5*y_width)))\n",
    "        x2.append(int(x_center + (0.5*x_width)))\n",
    "        y2.append(int(y_center + (0.5*y_width)))\n",
    "        class_na.append(int(k[0]))\n",
    "    plot_coordinates = np.vstack([x1, y1, x2, y2, class_na]).T\n",
    "    \n",
    "    for x in range(0, range_x):\n",
    "        for y in range(0, range_y):\n",
    "            cropped_img = img_pil.crop((x*grid, y*grid, (x+1)*grid, (y+1)*grid))\n",
    "            cropped_img.save(crop_save_dir + '/'+ \n",
    "                             os.path.basename(os.path.splitext(i)[0]) + \n",
    "                             '_x_' +  str(x).zfill(3) + '_y_' + str(y).zfill(3) + '.png')\n",
    "            \n",
    "            cor_temp = []\n",
    "            \n",
    "            for cor in plot_coordinates:\n",
    "                if (x*grid <= cor[0] < (x+1)*grid) and (y*grid <= cor[1] < (y+1)*grid):\n",
    "                \n",
    "                    if (x*grid < cor[2] <= (x+1)*grid) and (y*grid < cor[3] <= (y+1)*grid):\n",
    "                        cor_temp.append((cor[0] - x*grid, cor[1] - y*grid, cor[2] - x*grid, cor[3] - y*grid, cor[4]))\n",
    "                    \n",
    "                    if ((x+1)*grid <= cor[2]) and (y*grid < cor[3] <= (y+1)*grid):\n",
    "                        cor_temp.append((cor[0] - x*grid, cor[1] - y*grid, grid, cor[3] - y*grid, cor[4]))\n",
    "                    \n",
    "                    if (x*grid < cor[2] <= (x+1)*grid) and ((y+1)*grid <= cor[3]):\n",
    "                        cor_temp.append((cor[0] - x*grid, cor[1] - y*grid, cor[2] - x*grid, grid, cor[4]))\n",
    "                    \n",
    "                    if ((x+1)*grid <= cor[2]) and ((y+1)*grid <= cor[3]):\n",
    "                        cor_temp.append((cor[0] - x*grid, cor[1] - y*grid, grid, grid, cor[4]))\n",
    "                    \n",
    "                if (x*grid <= cor[2] < (x+1)*grid) and (y*grid <= cor[3] < (y+1)*grid):\n",
    "                \n",
    "                    if ((x-1)*grid <= cor[0] < x*grid) and ((y-1)*grid <= cor[1] < y*grid):\n",
    "                        cor_temp.append((0,0,cor[2] - x*grid, cor[3] - y*grid, cor[4]))\n",
    "                    \n",
    "                    if ((x-1)*grid <= cor[0] < x*grid) and (y*grid <= cor[1] <(y+1)*grid):\n",
    "                        cor_temp.append((0, cor[1] - y*grid, cor[2] - x*grid, cor[3] - y*grid, cor[4]))\n",
    "                    \n",
    "                    if (x*grid <= cor[0] < (x+1)*grid) and ((y-1)*grid <= cor[1] < y*grid):\n",
    "                        cor_temp.append((cor[0] - x*grid, 0, cor[2] - x*grid, cor[3] - y*grid, cor[4]))\n",
    "                        \n",
    "                if (cor[0] < x*grid) and (y*grid <= cor[1] < (y+1)*grid) and (x*grid < cor[2] <= (x+1)*grid) and ((y+1)*grid < cor[3]):\n",
    "                    cor_temp.append((0, cor[1] - y*grid, cor[2] - x*grid, grid, cor[4]))\n",
    "                    \n",
    "                if (x*grid <= cor[0] < (x+1)*grid) and (cor[1] <= y*grid) and ((x+1)*grid <= cor[2]) and (y*grid < cor[3] <= (y+1)*grid):\n",
    "                    cor_temp.append((cor[0] - x*grid, 0, grid, cor[3] - y*grid, cor[4]))\n",
    "                        \n",
    "            np.save(crop_save_dir + '/' + \n",
    "                    os.path.basename(os.path.splitext(i)[0]) + \n",
    "                    '_x_' +  str(x).zfill(3) + '_y_' + str(y).zfill(3) + '.npy', cor_temp)\n",
    "            temp_img_overlay = cropped_img\n",
    "            draw = ImageDraw.Draw(temp_img_overlay)\n",
    "            for c in cor_temp:\n",
    "                draw.rectangle((c[0], c[1], c[2], c[3]), fill=(255, 255, 255))\n",
    "            temp_img_overlay.save(crop_save_dir + '/' + \n",
    "                    os.path.basename(os.path.splitext(i)[0]) + \n",
    "                    '_x_' +  str(x).zfill(3) + '_y_' + str(y).zfill(3) + '_overlayed.png')"
   ]
  },
  {
   "cell_type": "code",
   "execution_count": null,
   "id": "5266675a",
   "metadata": {},
   "outputs": [],
   "source": [
    "grid = 680 # crop size\n",
    "crop_save_dir =  img_d + '/crop_save_0' +  str(grid)\n",
    "os.makedirs(crop_save_dir)"
   ]
  },
  {
   "cell_type": "code",
   "execution_count": null,
   "id": "ffa1798a",
   "metadata": {},
   "outputs": [],
   "source": [
    "Parallel(n_jobs=-1)(delayed(process_image)(i, j, grid, crop_save_dir) for i, j in zip(imgs, labels))"
   ]
  },
  {
   "cell_type": "code",
   "execution_count": null,
   "id": "bda02ccb",
   "metadata": {},
   "outputs": [],
   "source": [
    "######"
   ]
  },
  {
   "cell_type": "code",
   "execution_count": null,
   "id": "bb2c4359",
   "metadata": {},
   "outputs": [],
   "source": [
    "d = os.path.join(img_d,'crop_save_0680' )\n",
    "img_f = sorted(glob.glob(d + '/*.png'))\n",
    "img_f = [i for i in img_f if not i.endswith('overlayed.png')]\n",
    "npy_f = sorted(glob.glob(d + '/*.npy'))\n",
    "print(len(img_f))\n",
    "print(len(img_f) == len(npy_f))"
   ]
  },
  {
   "cell_type": "code",
   "execution_count": null,
   "id": "0deb3a3c",
   "metadata": {},
   "outputs": [],
   "source": [
    "temp = []\n",
    "for i, j in zip(img_f, npy_f):\n",
    "    temp.append(os.path.basename(os.path.splitext(i)[0]) ==  os.path.basename(os.path.splitext(j)[0]))\n",
    "all(temp)"
   ]
  },
  {
   "cell_type": "code",
   "execution_count": null,
   "id": "bf30a2b3",
   "metadata": {},
   "outputs": [],
   "source": [
    "for i in img_f:\n",
    "    img = Image.open(i)\n",
    "    if img.size[0] != img.size[1]:\n",
    "        print(i)\n",
    "    else:\n",
    "        print('OK')"
   ]
  },
  {
   "cell_type": "code",
   "execution_count": null,
   "id": "f056cc0c",
   "metadata": {},
   "outputs": [],
   "source": [
    "target_d = d + '/resized'\n",
    "os.makedirs(target_d)"
   ]
  },
  {
   "cell_type": "code",
   "execution_count": null,
   "id": "e2a43b01",
   "metadata": {},
   "outputs": [],
   "source": [
    "SIZE = 640\n",
    "\n",
    "def resize_img0640(i, n):\n",
    "    img = Image.open(i)\n",
    "    imgsize = img.size[0]\n",
    "    img.resize((SIZE, SIZE), Image.LANCZOS).save(target_d + '/' + \n",
    "                                                 os.path.basename(os.path.splitext(i)[0]) + \n",
    "                                                 '_0680_resized_to_' + str(SIZE) + '.png')\n",
    "    temp_npy = np.load(n).astype('float32')\n",
    "    result = []\n",
    "    #label = 0\n",
    "    for t in temp_npy:\n",
    "        #rescale = imgsize/SIZE\n",
    "        x_min = t[0]/imgsize \n",
    "        y_min = t[1]/imgsize\n",
    "        x_max = t[2]/imgsize\n",
    "        y_max = t[3]/imgsize\n",
    "        label = int(t[4])\n",
    "        x_center = x_min + (x_max - x_min)/2\n",
    "        y_center = y_min + (y_max - y_min)/2\n",
    "        width = x_max - x_min\n",
    "        height = y_max - y_min\n",
    "        result.append(str(label)+str(' ')+str(x_center)+str(' ')+str(y_center)+str(' ')+\n",
    "                      str(width)+str(' ')+str(height)+str('\\n'))\n",
    "        with open(target_d + '/' + \n",
    "                  os.path.basename(os.path.splitext(i)[0]) + \n",
    "                  '_0680_resized_to_' + str(SIZE) +  '.txt', 'w') as f:\n",
    "            f.writelines(result) "
   ]
  },
  {
   "cell_type": "code",
   "execution_count": null,
   "id": "b316fb78",
   "metadata": {},
   "outputs": [],
   "source": [
    "Parallel(n_jobs=-1)(delayed(resize_img0640)(i, n) for i, n in zip(img_f, npy_f))"
   ]
  },
  {
   "cell_type": "code",
   "execution_count": null,
   "id": "ed7a658b",
   "metadata": {},
   "outputs": [],
   "source": [
    "img_f = sorted(glob.glob(target_d + '/*.png'))\n",
    "txt_f = sorted(glob.glob(target_d + '/*.txt'))\n",
    "print(len(img_f))\n",
    "print(len(txt_f))"
   ]
  },
  {
   "cell_type": "code",
   "execution_count": null,
   "id": "ae918582",
   "metadata": {},
   "outputs": [],
   "source": [
    "img_only_d = d + '/resized_imgonly'\n",
    "os.makedirs(img_only_d)"
   ]
  },
  {
   "cell_type": "code",
   "execution_count": null,
   "id": "21192e25",
   "metadata": {},
   "outputs": [],
   "source": [
    "txt_base = [os.path.basename(os.path.splitext(i)[0]) for i in txt_f]\n",
    "for i in img_f:\n",
    "    if os.path.basename(os.path.splitext(i)[0]) not in set(txt_base):\n",
    "        shutil.move(i, img_only_d)"
   ]
  },
  {
   "cell_type": "code",
   "execution_count": null,
   "id": "bf45e233",
   "metadata": {},
   "outputs": [],
   "source": [
    "img_f = sorted(glob.glob(target_d + '/*.png'))\n",
    "txt_f = sorted(glob.glob(target_d + '/*.txt'))\n",
    "len(img_f) == len(txt_f)"
   ]
  },
  {
   "cell_type": "code",
   "execution_count": null,
   "id": "85fbe078",
   "metadata": {},
   "outputs": [],
   "source": [
    "temp = []\n",
    "for i, j in zip(img_f, txt_f):\n",
    "    temp.append(os.path.basename(os.path.splitext(i)[0]) ==  os.path.basename(os.path.splitext(j)[0]))\n",
    "all(temp)"
   ]
  },
  {
   "cell_type": "code",
   "execution_count": null,
   "id": "66082a35",
   "metadata": {},
   "outputs": [],
   "source": [
    "target_img_d = os.path.join(img_d, 'target_img')\n",
    "target_lab_d = os.path.join(img_d, 'target_lab')\n",
    "os.makedirs(target_img_d)\n",
    "os.makedirs(target_lab_d)\n",
    "for i in img_f:\n",
    "    shutil.move(i, target_img_d)\n",
    "for i in txt_f:\n",
    "    shutil.move(i, target_lab_d)"
   ]
  },
  {
   "cell_type": "code",
   "execution_count": null,
   "id": "346f1c36",
   "metadata": {},
   "outputs": [],
   "source": [
    "img_only_f = sorted(glob.glob(img_only_d + '/*.png'))\n",
    "print(len(img_only_f))"
   ]
  },
  {
   "cell_type": "code",
   "execution_count": null,
   "id": "be06332d",
   "metadata": {},
   "outputs": [],
   "source": [
    "for i in img_only_f:\n",
    "    touch_file = pathlib.Path(os.path.splitext(i)[0] + '.txt')\n",
    "    touch_file.touch()"
   ]
  },
  {
   "cell_type": "code",
   "execution_count": null,
   "id": "082d53ca",
   "metadata": {},
   "outputs": [],
   "source": [
    "img_f = sorted(glob.glob(img_only_d + '/*.png'))\n",
    "txt_f = sorted(glob.glob(img_only_d + '/*.txt'))\n",
    "print(len(img_f))\n",
    "print(len(img_f) == len(txt_f))"
   ]
  },
  {
   "cell_type": "code",
   "execution_count": null,
   "id": "a7489109",
   "metadata": {},
   "outputs": [],
   "source": [
    "for i in img_f:\n",
    "    shutil.move(i, target_img_d)\n",
    "for i in txt_f:\n",
    "    shutil.move(i, target_lab_d)"
   ]
  }
 ],
 "metadata": {
  "kernelspec": {
   "display_name": "Python 3 (ipykernel)",
   "language": "python",
   "name": "python3"
  },
  "language_info": {
   "codemirror_mode": {
    "name": "ipython",
    "version": 3
   },
   "file_extension": ".py",
   "mimetype": "text/x-python",
   "name": "python",
   "nbconvert_exporter": "python",
   "pygments_lexer": "ipython3",
   "version": "3.8.18"
  }
 },
 "nbformat": 4,
 "nbformat_minor": 5
}
