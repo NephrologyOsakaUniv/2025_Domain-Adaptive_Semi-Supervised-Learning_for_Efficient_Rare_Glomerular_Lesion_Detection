{
 "cells": [
  {
   "cell_type": "code",
   "execution_count": null,
   "id": "810a7ad1",
   "metadata": {},
   "outputs": [],
   "source": [
    "###\n",
    "# This code is used for pre-augmentation (Augmentation 1 in the paper) \n",
    "###"
   ]
  },
  {
   "cell_type": "code",
   "execution_count": null,
   "id": "e9a33f60",
   "metadata": {},
   "outputs": [],
   "source": [
    "import os, glob, shutil, tifffile, json, pathlib\n",
    "import numpy as np\n",
    "from PIL import Image, ImageFilter, ImageDraw, ImageOps, ImageEnhance, ImageMath  \n",
    "from joblib import Parallel, delayed\n",
    "from tqdm import tqdm_notebook as tqdm\n",
    "from concurrent.futures import ThreadPoolExecutor\n",
    "\n",
    "seed = 0\n",
    "%matplotlib inline"
   ]
  },
  {
   "cell_type": "code",
   "execution_count": null,
   "id": "edd4182a",
   "metadata": {},
   "outputs": [],
   "source": [
    "orig_d = '/PATH/TO/YOUR/IMAGES'\n",
    "img_d = os.path.join(orig_d, '*/img')\n",
    "lab_d = os.path.join(orig_d, '*/lab')\n",
    "\n",
    "imgs = sorted(glob.glob(img_d + '/*.png'))\n",
    "labs = sorted(glob.glob(lab_d + '/*.txt'))\n",
    "\n",
    "print(len(imgs))\n",
    "print(len(labs))"
   ]
  },
  {
   "cell_type": "code",
   "execution_count": null,
   "id": "8cddd013",
   "metadata": {},
   "outputs": [],
   "source": [
    "temp = []\n",
    "for i, j in zip(imgs, labs):\n",
    "    temp.append(os.path.basename(os.path.splitext(i)[0]) == os.path.basename(os.path.splitext(j)[0]))\n",
    "print(all(temp))"
   ]
  },
  {
   "cell_type": "code",
   "execution_count": null,
   "id": "ec0ebd04",
   "metadata": {},
   "outputs": [],
   "source": [
    "def check_yolo_file(file_path):\n",
    "    with open(file_path, 'r') as file:\n",
    "        lines = file.readlines()\n",
    "        for line in lines:\n",
    "            class_id = int(line.split()[0])\n",
    "            if class_id == 2 or class_id == 3:\n",
    "                return True\n",
    "    return False\n",
    "\n"
   ]
  },
  {
   "cell_type": "code",
   "execution_count": null,
   "id": "d8d7d7ea",
   "metadata": {},
   "outputs": [],
   "source": [
    "temp = []\n",
    "for i in labs:\n",
    "    if check_yolo_file(i):\n",
    "        print(i)\n",
    "        temp.append(i)"
   ]
  },
  {
   "cell_type": "code",
   "execution_count": null,
   "id": "a4dfcdc5",
   "metadata": {},
   "outputs": [],
   "source": [
    "def process_file(i):\n",
    "    if check_yolo_file(i):\n",
    "        img_fna = os.path.dirname(os.path.dirname(i)) + '/img/' + os.path.basename(os.path.splitext(i)[0]) + '.png'\n",
    "        if not os.path.exists(img_fna):\n",
    "            print(f\"The file {img_fna} does not exist.\")\n",
    "            return\n",
    "        \n",
    "        img = Image.open(img_fna)\n",
    "        \n",
    "                \n",
    "        # Save augmented images\n",
    "        img.save(os.path.splitext(img_fna)[0] + '_mono0.png')\n",
    "        shutil.copyfile(i, os.path.splitext(i)[0] + '_mono0.txt')\n",
    "        img.save(os.path.splitext(img_fna)[0] + '_mono1.png')\n",
    "        shutil.copyfile(i, os.path.splitext(i)[0] + '_mono1.txt')\n",
    "        img.save(os.path.splitext(img_fna)[0] + '_mono3.png')\n",
    "        shutil.copyfile(i, os.path.splitext(i)[0] + '_mono3.txt')\n",
    "        img.save(os.path.splitext(img_fna)[0] + '_mono4.png')\n",
    "        shutil.copyfile(i, os.path.splitext(i)[0] + '_mono4.txt')\n",
    "        img.save(os.path.splitext(img_fna)[0] + '_mono5.png')\n",
    "        shutil.copyfile(i, os.path.splitext(i)[0] + '_mono5.txt')   \n",
    "        img.save(os.path.splitext(img_fna)[0] + '_mono6.png')\n",
    "        shutil.copyfile(i, os.path.splitext(i)[0] + '_mono6.txt')\n",
    "        img.save(os.path.splitext(img_fna)[0] + '_mono7.png')\n",
    "        shutil.copyfile(i, os.path.splitext(i)[0] + '_mono7.txt')"
   ]
  },
  {
   "cell_type": "code",
   "execution_count": null,
   "id": "6c1ca43b",
   "metadata": {},
   "outputs": [],
   "source": [
    "with ThreadPoolExecutor(max_workers=32) as executor:\n",
    "    list(tqdm(executor.map(process_file, labs), total=len(labs)))"
   ]
  }
 ],
 "metadata": {
  "kernelspec": {
   "display_name": "Python 3 (ipykernel)",
   "language": "python",
   "name": "python3"
  },
  "language_info": {
   "codemirror_mode": {
    "name": "ipython",
    "version": 3
   },
   "file_extension": ".py",
   "mimetype": "text/x-python",
   "name": "python",
   "nbconvert_exporter": "python",
   "pygments_lexer": "ipython3",
   "version": "3.8.18"
  }
 },
 "nbformat": 4,
 "nbformat_minor": 5
}
