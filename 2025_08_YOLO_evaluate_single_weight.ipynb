{
 "cells": [
  {
   "cell_type": "code",
   "execution_count": null,
   "id": "0603f5c2",
   "metadata": {},
   "outputs": [],
   "source": [
    "###\n",
    "# This code is for evaluating the performance of YOLO.\n",
    "###"
   ]
  },
  {
   "cell_type": "code",
   "execution_count": null,
   "id": "247f98ff",
   "metadata": {},
   "outputs": [],
   "source": [
    "from __future__ import print_function\n",
    "\n",
    "import glob, os, random, torch, timm, shutil, pickle, time, yaml, json, gc\n",
    "import matplotlib.pyplot as plt\n",
    "import numpy as np\n",
    "import pandas as pd\n",
    "import seaborn as sns\n",
    "import torch.nn as nn\n",
    "import torch.nn.functional as F\n",
    "import torch.optim as optim\n",
    "import pytorch_lightning as pl\n",
    "import itertools\n",
    "\n",
    "from PIL import Image, ImageEnhance, ImageOps, ImageDraw\n",
    "from torch.optim.lr_scheduler import StepLR, ReduceLROnPlateau\n",
    "from torch.utils.data import DataLoader, Dataset\n",
    "from torchvision import datasets, transforms\n",
    "from tqdm.notebook import tqdm\n",
    "from pathlib import Path\n",
    "from pprint import pprint\n",
    "from tempfile import TemporaryDirectory\n",
    "from ultralytics import YOLO\n",
    "\n",
    "os.environ[\"CUDA_DEVICE_ORDER\"] = 'PCI_BUS_ID'\n",
    "os.environ[\"CUDA_VISIBLE_DEVICES\"] = '2'\n",
    "\n",
    "device = torch.device(\"cuda\" if torch.cuda.is_available() else \"cpu\")\n",
    "print(f\"Using {device} device\")\n",
    "\n",
    "seed = 0\n",
    "\n",
    "Image.MAX_IMAGE_PIXELS = None\n",
    "%matplotlib inline\n",
    "\n"
   ]
  },
  {
   "cell_type": "code",
   "execution_count": null,
   "id": "506b4670",
   "metadata": {},
   "outputs": [],
   "source": [
    "print(torch.__version__)\n",
    "print(torch.cuda.is_available())\n",
    "print(torch.cuda.device_count())"
   ]
  },
  {
   "cell_type": "code",
   "execution_count": null,
   "id": "6e3cfa55",
   "metadata": {},
   "outputs": [],
   "source": [
    "def seed_everything(seed):\n",
    "    random.seed(seed)\n",
    "    os.environ['PYTHONHASHSEED'] = str(seed)\n",
    "    np.random.seed(seed)\n",
    "    torch.manual_seed(seed)\n",
    "    torch.cuda.manual_seed(seed)\n",
    "    torch.cuda.manual_seed_all(seed)\n",
    "    torch.backends.cudnn.deterministic = True\n",
    "\n",
    "seed_everything(seed)"
   ]
  },
  {
   "cell_type": "code",
   "execution_count": null,
   "id": "a4962a11",
   "metadata": {},
   "outputs": [],
   "source": [
    "##########"
   ]
  },
  {
   "cell_type": "code",
   "execution_count": null,
   "id": "8213a968",
   "metadata": {},
   "outputs": [],
   "source": [
    "DEVICE = 2\n",
    "EPOCH = 500\n",
    "BATCH = 1\n",
    "IOU = 0.5\n",
    "CONF = 0.001"
   ]
  },
  {
   "cell_type": "code",
   "execution_count": null,
   "id": "c523dcb4",
   "metadata": {},
   "outputs": [],
   "source": [
    "#####"
   ]
  },
  {
   "cell_type": "code",
   "execution_count": null,
   "id": "43c51d1c",
   "metadata": {},
   "outputs": [],
   "source": [
    "models_d = '/PATH/TO/YOUR/WEIGHTS'\n",
    "models_f = sorted(glob.glob(models_d + '/*.pt'))\n",
    "models_f"
   ]
  },
  {
   "cell_type": "code",
   "execution_count": null,
   "id": "70347837",
   "metadata": {
    "scrolled": false
   },
   "outputs": [],
   "source": [
    "for i in models_f:\n",
    "    DATA = \"/PATH/TO/YOUR/YAML\"\n",
    "    model = YOLO(i)\n",
    "    metrics = model.val(data=DATA, imgsz=640, batch=BATCH, conf=CONF, iou=IOU, device=DEVICE,\n",
    "                            project='PAS_glo', name=os.path.splitext(DATA)[0] + '___on___' + os.path.basename(os.path.splitext(i)[0]))\n",
    "    with open(os.path.splitext(DATA)[0] + '___on___' + os.path.basename(os.path.splitext(i)[0]) + '.pkl', 'wb') as file:\n",
    "        pickle.dump(metrics.box, file)\n",
    "        \n",
    "    del model\n",
    "    gc.collect()\n",
    "    "
   ]
  }
 ],
 "metadata": {
  "kernelspec": {
   "display_name": "Python 3 (ipykernel)",
   "language": "python",
   "name": "python3"
  },
  "language_info": {
   "codemirror_mode": {
    "name": "ipython",
    "version": 3
   },
   "file_extension": ".py",
   "mimetype": "text/x-python",
   "name": "python",
   "nbconvert_exporter": "python",
   "pygments_lexer": "ipython3",
   "version": "3.8.18"
  }
 },
 "nbformat": 4,
 "nbformat_minor": 5
}
