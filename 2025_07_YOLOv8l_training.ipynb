{
 "cells": [
  {
   "cell_type": "code",
   "execution_count": null,
   "id": "a18677e1",
   "metadata": {},
   "outputs": [],
   "source": [
    "###\n",
    "# This code is for training YOLOv8. Please specify GPU, data directory, YAML files, \n",
    "# and other parameters according to your actual environment.\n",
    "###"
   ]
  },
  {
   "cell_type": "code",
   "execution_count": null,
   "id": "247f98ff",
   "metadata": {},
   "outputs": [],
   "source": [
    "from __future__ import print_function\n",
    "\n",
    "import glob, os, random, torch, timm, shutil, pickle, time, yaml, json, gc\n",
    "import matplotlib.pyplot as plt\n",
    "import numpy as np\n",
    "import pandas as pd\n",
    "import seaborn as sns\n",
    "import torch.nn as nn\n",
    "import torch.nn.functional as F\n",
    "import torch.optim as optim\n",
    "import pytorch_lightning as pl\n",
    "\n",
    "from PIL import Image, ImageEnhance, ImageOps, ImageDraw\n",
    "from torch.optim.lr_scheduler import StepLR, ReduceLROnPlateau\n",
    "from torch.utils.data import DataLoader, Dataset\n",
    "from torchvision import datasets, transforms\n",
    "from tqdm.notebook import tqdm\n",
    "from pathlib import Path\n",
    "from pprint import pprint\n",
    "from tempfile import TemporaryDirectory\n",
    "from ultralytics import YOLO\n",
    "\n",
    "os.environ[\"CUDA_DEVICE_ORDER\"] = 'PCI_BUS_ID'\n",
    "os.environ[\"CUDA_VISIBLE_DEVICES\"] = '0'\n",
    "\n",
    "device = torch.device(\"cuda\" if torch.cuda.is_available() else \"cpu\")\n",
    "print(f\"Using {device} device\")\n",
    "\n",
    "seed = 0\n",
    "Image.MAX_IMAGE_PIXELS = None\n",
    "%matplotlib inline"
   ]
  },
  {
   "cell_type": "code",
   "execution_count": null,
   "id": "506b4670",
   "metadata": {},
   "outputs": [],
   "source": [
    "print(torch.__version__)\n",
    "print(torch.cuda.is_available())\n",
    "print(torch.cuda.device_count())\n"
   ]
  },
  {
   "cell_type": "code",
   "execution_count": null,
   "id": "6e3cfa55",
   "metadata": {},
   "outputs": [],
   "source": [
    "def seed_everything(seed):\n",
    "    random.seed(seed)\n",
    "    os.environ['PYTHONHASHSEED'] = str(seed)\n",
    "    np.random.seed(seed)\n",
    "    torch.manual_seed(seed)\n",
    "    torch.cuda.manual_seed(seed)\n",
    "    torch.cuda.manual_seed_all(seed)\n",
    "    torch.backends.cudnn.deterministic = True\n",
    "\n",
    "seed_everything(seed)"
   ]
  },
  {
   "cell_type": "code",
   "execution_count": null,
   "id": "a4962a11",
   "metadata": {},
   "outputs": [],
   "source": [
    "##########"
   ]
  },
  {
   "cell_type": "code",
   "execution_count": null,
   "id": "c3fc143e",
   "metadata": {},
   "outputs": [],
   "source": [
    "# Global settings\n",
    "DEVICE = 0\n",
    "EPOCH = 500\n",
    "BATCH = 64\n",
    "SEED = 0"
   ]
  },
  {
   "cell_type": "code",
   "execution_count": null,
   "id": "a834d99b-afba-4e9a-a652-5efde19f7bcf",
   "metadata": {},
   "outputs": [],
   "source": [
    "def train_model(yaml_file, run_name, seed, device, epochs, batch_size, weights):\n",
    "    torch.cuda.empty_cache()\n",
    "    gc.collect()\n",
    "    \n",
    "    seed_everything(seed)\n",
    "    \n",
    "    model = YOLO(weights)\n",
    "    \n",
    "    model.train(\n",
    "        data=yaml_file,\n",
    "        epochs=epochs,\n",
    "        batch=batch_size,\n",
    "        cache=False,\n",
    "        device=device,\n",
    "        project='PAS_glo',\n",
    "        name=run_name,\n",
    "        pretrained=True,\n",
    "        verbose=True,\n",
    "        workers=24,\n",
    "        imgsz=640,\n",
    "        hsv_h=0.2,\n",
    "        shear=0.1,\n",
    "        degrees=90.0,\n",
    "        flipud=0.5,\n",
    "        fliplr=0.5,\n",
    "        box=10.0,\n",
    "        patience=50\n",
    "    )\n",
    "    \n",
    "    if torch.cuda.is_available():\n",
    "        torch.cuda.empty_cache()\n",
    "    del model\n",
    "    gc.collect()"
   ]
  },
  {
   "cell_type": "code",
   "execution_count": null,
   "id": "6467ec0e",
   "metadata": {},
   "outputs": [],
   "source": [
    "WEIGHTS = \"/PATH/T/YOUR/WEIGHT/FILE.pt\"  \n",
    "\n",
    "# List of configurations for each training run\n",
    "configs = [\n",
    "    {\"yaml\": \"YOUR_YAML.yaml\", \"name\": \"YOUR_SAVE_NAME\"}\n",
    "]\n",
    "\n",
    "# 学習実行\n",
    "for config in configs:\n",
    "    print(f\"Starting training for {config['name']}\")\n",
    "    train_model(config['yaml'], config['name'], SEED, DEVICE, EPOCH, BATCH, WEIGHTS)\n",
    "    print(f\"Completed training for {config['name']}\")\n"
   ]
  }
 ],
 "metadata": {
  "kernelspec": {
   "display_name": "Python 3 (ipykernel)",
   "language": "python",
   "name": "python3"
  },
  "language_info": {
   "codemirror_mode": {
    "name": "ipython",
    "version": 3
   },
   "file_extension": ".py",
   "mimetype": "text/x-python",
   "name": "python",
   "nbconvert_exporter": "python",
   "pygments_lexer": "ipython3",
   "version": "3.8.18"
  }
 },
 "nbformat": 4,
 "nbformat_minor": 5
}
