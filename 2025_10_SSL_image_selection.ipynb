{
 "cells": [
  {
   "cell_type": "code",
   "execution_count": null,
   "id": "a81204f7",
   "metadata": {},
   "outputs": [],
   "source": [
    "###\n",
    "# This code creates training data for semi-supervised learning with pseudo-labels \n",
    "# based on a pre-trained model. In this code, the prediction threshold is set to 0.5.\n",
    "###"
   ]
  },
  {
   "cell_type": "code",
   "execution_count": null,
   "id": "247f98ff",
   "metadata": {},
   "outputs": [],
   "source": [
    "from __future__ import print_function\n",
    "\n",
    "import glob, os, random, torch, timm, shutil, pickle, time, yaml, json, gc, cv2, torchvision\n",
    "import matplotlib.pyplot as plt\n",
    "import numpy as np\n",
    "import pandas as pd\n",
    "import seaborn as sns\n",
    "import torch.nn as nn\n",
    "import torch.nn.functional as F\n",
    "import torch.optim as optim\n",
    "import pytorch_lightning as pl\n",
    "import itertools\n",
    "import matplotlib.patches as patches\n",
    "\n",
    "from PIL import Image, ImageEnhance, ImageOps, ImageDraw\n",
    "from torch.optim.lr_scheduler import StepLR, ReduceLROnPlateau\n",
    "from torch.utils.data import DataLoader, Dataset\n",
    "from torchvision import datasets, transforms\n",
    "from tqdm.notebook import tqdm\n",
    "from pathlib import Path\n",
    "from pprint import pprint\n",
    "from tempfile import TemporaryDirectory\n",
    "from concurrent.futures import ThreadPoolExecutor\n",
    "import concurrent.futures\n",
    "from collections import defaultdict\n",
    "\n",
    "from ultralytics import YOLO\n",
    "\n",
    "os.environ[\"CUDA_DEVICE_ORDER\"] = 'PCI_BUS_ID'\n",
    "os.environ[\"CUDA_VISIBLE_DEVICES\"] = '0'\n",
    "\n",
    "device = torch.device(\"cuda\" if torch.cuda.is_available() else \"cpu\")\n",
    "print(f\"Using {device} device\")\n",
    "\n",
    "seed = 0\n",
    "\n",
    "Image.MAX_IMAGE_PIXELS = None\n",
    "%matplotlib inline\n"
   ]
  },
  {
   "cell_type": "code",
   "execution_count": null,
   "id": "506b4670",
   "metadata": {},
   "outputs": [],
   "source": [
    "print(torch.__version__)\n",
    "print(torch.cuda.is_available())\n",
    "print(torch.cuda.device_count())"
   ]
  },
  {
   "cell_type": "code",
   "execution_count": null,
   "id": "6e3cfa55",
   "metadata": {},
   "outputs": [],
   "source": [
    "def seed_everything(seed):\n",
    "    random.seed(seed)\n",
    "    os.environ['PYTHONHASHSEED'] = str(seed)\n",
    "    np.random.seed(seed)\n",
    "    torch.manual_seed(seed)\n",
    "    torch.cuda.manual_seed(seed)\n",
    "    torch.cuda.manual_seed_all(seed)\n",
    "    torch.backends.cudnn.deterministic = True\n",
    "\n",
    "seed_everything(seed)"
   ]
  },
  {
   "cell_type": "code",
   "execution_count": null,
   "id": "a4962a11",
   "metadata": {},
   "outputs": [],
   "source": [
    "##########"
   ]
  },
  {
   "cell_type": "code",
   "execution_count": null,
   "id": "8213a968",
   "metadata": {},
   "outputs": [],
   "source": [
    "DEVICE = 0\n",
    "BATCH = 16\n",
    "IOU = 0.5\n",
    "CONF = 0.5\n",
    "WORKERS = 24"
   ]
  },
  {
   "cell_type": "code",
   "execution_count": null,
   "id": "2d4ab1ca",
   "metadata": {},
   "outputs": [],
   "source": [
    "def perform_nms(boxes, scores, iou_thr=IOU):\n",
    "    if len(boxes) == 0:\n",
    "        return np.array([]), np.array([])\n",
    "\n",
    "    boxes_tensor = torch.tensor(boxes)\n",
    "    scores_tensor = torch.tensor(scores)\n",
    "    nms_indices = torchvision.ops.nms(boxes_tensor, scores_tensor, iou_threshold=iou_thr)\n",
    "\n",
    "    return boxes[nms_indices.numpy()], scores[nms_indices.numpy()]\n",
    "\n",
    "def process_image(img_path, label_dir, conf=CONF, iou=IOU):\n",
    "    label_file = os.path.splitext(os.path.basename(img_path))[0] + \".txt\"\n",
    "    label_path = os.path.join(label_dir, label_file)\n",
    "\n",
    "    ensemble_results = []\n",
    "    for model in models:\n",
    "        results = model(img_path, conf=conf, iou=iou, imgsz=640, max_det=100, augment=False, stream=False)\n",
    "        ensemble_results.append(results)\n",
    "\n",
    "    combined_boxes = []\n",
    "    combined_scores = []\n",
    "    combined_classes = []\n",
    "    for result in ensemble_results:\n",
    "        boxes = result[0].boxes.xyxy.cpu().numpy()\n",
    "        scores = result[0].boxes.conf.cpu().numpy()\n",
    "        classes = result[0].boxes.cls.cpu().numpy()\n",
    "        combined_boxes.append(boxes)\n",
    "        combined_scores.append(scores)\n",
    "        combined_classes.append(classes)\n",
    "    \n",
    "    combined_boxes = np.concatenate(combined_boxes)\n",
    "    combined_scores = np.concatenate(combined_scores)\n",
    "    combined_classes = np.concatenate(combined_classes)\n",
    "    \n",
    "    high_conf_indices = combined_scores >= conf\n",
    "    combined_boxes = combined_boxes[high_conf_indices]\n",
    "    combined_scores = combined_scores[high_conf_indices]\n",
    "    combined_classes = combined_classes[high_conf_indices]\n",
    "\n",
    "    if len(combined_boxes) == 0:\n",
    "        open(label_path, 'w').close()  \n",
    "        return\n",
    "\n",
    "    final_boxes, final_scores = perform_nms(combined_boxes, combined_scores, iou_thr=iou)\n",
    "    final_classes = combined_classes[high_conf_indices]\n",
    "\n",
    "    orig_img = cv2.imread(img_path)\n",
    "    img_height, img_width, _ = orig_img.shape\n",
    "\n",
    "    with open(label_path, \"w\") as f:\n",
    "        for bbox, cls_id, score in zip(final_boxes, final_classes, final_scores):\n",
    "            x_min, y_min, x_max, y_max = bbox\n",
    "\n",
    "            x_center = (x_min + x_max) / 2 / img_width\n",
    "            y_center = (y_min + y_max) / 2 / img_height\n",
    "            width = (x_max - x_min) / img_width\n",
    "            height = (y_max - y_min) / img_height\n",
    "            f.write(f\"{int(cls_id)} {x_center} {y_center} {width} {height} {score}\\n\")\n",
    "\n",
    "def process_subdirectory(subdir):\n",
    "    img_dir = os.path.join(subdir, \"img\")\n",
    "    if not os.path.exists(img_dir):\n",
    "        print(f\"Image directory not found in {subdir}\")\n",
    "        return\n",
    "\n",
    "    subdir_name = os.path.basename(subdir)\n",
    "    label_dir = os.path.join(output_base_dir, f\"labels_{subdir_name}\")\n",
    "    os.makedirs(label_dir, exist_ok=True)\n",
    "\n",
    "    image_files = [f for f in os.listdir(img_dir) if f.endswith(\".png\")]\n",
    "    \n",
    "    def safe_process_image(img_file):\n",
    "        try:\n",
    "            process_image(os.path.join(img_dir, img_file), label_dir)\n",
    "        except Exception as e:\n",
    "            print(f\"Error processing file {img_file}: {e}\")\n",
    "            label_file = os.path.splitext(img_file)[0] + \".txt\"\n",
    "            label_path = os.path.join(label_dir, label_file)\n",
    "            open(label_path, 'w').close()\n",
    "\n",
    "    with ThreadPoolExecutor(max_workers=WORKERS) as executor:\n",
    "        list(tqdm(executor.map(safe_process_image, image_files), total=len(image_files)))\n",
    "\n",
    "    for img_file in image_files:\n",
    "        label_file = os.path.splitext(img_file)[0] + \".txt\"\n",
    "        label_path = os.path.join(label_dir, label_file)\n",
    "        if not os.path.exists(label_path):\n",
    "            print(f\"Creating missing label file for {img_file}\")\n",
    "            open(label_path, 'w').close()\n",
    "\n",
    "    label_files = [f for f in os.listdir(label_dir) if f.endswith(\".txt\")]\n",
    "    print(f\"Processed {subdir_name}: {len(image_files)} images, {len(label_files)} labels created\")\n",
    "    if len(image_files) != len(label_files):\n",
    "        print(f\"Warning: Number of images ({len(image_files)}) does not match number of labels ({len(label_files)})\")\n",
    "\n"
   ]
  },
  {
   "cell_type": "code",
   "execution_count": null,
   "id": "3c3d96f5",
   "metadata": {},
   "outputs": [],
   "source": [
    "# Load models\n",
    "models_d = '/PATH/TO/YOUR/MODELS'\n",
    "models_f = sorted(glob.glob(models_d + '/*.pt'))\n",
    "models = [YOLO(model_f) for model_f in models_f]\n",
    "models_f"
   ]
  },
  {
   "cell_type": "code",
   "execution_count": null,
   "id": "9430450d",
   "metadata": {},
   "outputs": [],
   "source": [
    "# Directory Configuration\n",
    "# Under the specified directory, there are subdirectories, each containing an img directory, which contains PNG format images\n",
    "\n",
    "base_dir = \"/PATH/TO/YOUR/DIRECTORY\"\n",
    "output_base_dir = \"/PATH/TO/YOUR/OUTPUT/DIRECTORY\"\n",
    "\n",
    "subdirs = [d for d in glob.glob(os.path.join(base_dir, \"*\")) if os.path.isdir(d)]\n",
    "for subdir in subdirs:\n",
    "    process_subdirectory(subdir)"
   ]
  },
  {
   "cell_type": "code",
   "execution_count": null,
   "id": "58e76ff6",
   "metadata": {},
   "outputs": [],
   "source": [
    "### file selection ###"
   ]
  },
  {
   "cell_type": "code",
   "execution_count": null,
   "id": "2bac7d5e",
   "metadata": {},
   "outputs": [],
   "source": [
    "base_dir = \"/PATH/TO/YOUR/DIRECTORY\"\n",
    "output_base_dir = \"/PATH/TO/YOUR/OUTPUT/DIRECTORY\""
   ]
  },
  {
   "cell_type": "code",
   "execution_count": null,
   "id": "a21d8b4e",
   "metadata": {},
   "outputs": [],
   "source": [
    "pseudo_labels = sorted(glob.glob(output_base_dir + '/*/*.txt'))\n",
    "print(pseudo_labels[0])\n",
    "print(len(pseudo_labels))"
   ]
  },
  {
   "cell_type": "code",
   "execution_count": null,
   "id": "f34e0619",
   "metadata": {},
   "outputs": [],
   "source": [
    "imgs = sorted(glob.glob(base_dir + '/*/*/*.png'))\n",
    "print(imgs[0])\n",
    "print(len(imgs))"
   ]
  },
  {
   "cell_type": "code",
   "execution_count": null,
   "id": "b3fbb18d",
   "metadata": {},
   "outputs": [],
   "source": [
    "for i, j in zip(pseudo_labels, imgs):\n",
    "    if os.path.basename(os.path.splitext(i)[0]) != os.path.basename(os.path.splitext(j)[0]):\n",
    "        print(i)\n"
   ]
  },
  {
   "cell_type": "code",
   "execution_count": null,
   "id": "61151731",
   "metadata": {},
   "outputs": [],
   "source": [
    "####"
   ]
  },
  {
   "cell_type": "code",
   "execution_count": null,
   "id": "b05d8d1a",
   "metadata": {},
   "outputs": [],
   "source": [
    "CONF_THRESHOLD = 0.50  \n",
    "output_dir = output_base_dir + '_threshold_' + str(CONF_THRESHOLD) + '_/labels'  # output directory path\n",
    "classes_of_interest = [0, 1, 2, 3]  # target classes\n",
    "os.makedirs(output_dir, exist_ok=True)"
   ]
  },
  {
   "cell_type": "code",
   "execution_count": null,
   "id": "ab232b1a",
   "metadata": {},
   "outputs": [],
   "source": [
    "def process_label_file(input_path, output_path):\n",
    "    with open(input_path, 'r') as f:\n",
    "        lines = f.readlines()\n",
    "    \n",
    "    all_above_threshold = True\n",
    "    contains_class_of_interest = False\n",
    "    new_lines = []\n",
    "    \n",
    "    for line in lines:\n",
    "        parts = line.strip().split()\n",
    "        if len(parts) == 6:  # class x y w h conf\n",
    "            cls, x, y, w, h, conf = parts\n",
    "            cls = int(cls)\n",
    "            conf = float(conf)\n",
    "            \n",
    "            if conf < CONF_THRESHOLD:\n",
    "                all_above_threshold = False\n",
    "                break\n",
    "            \n",
    "            if cls in classes_of_interest:\n",
    "                contains_class_of_interest = True\n",
    "            new_lines.append(f\"{cls} {x} {y} {w} {h}\\n\")\n",
    "    \n",
    "    if all_above_threshold and contains_class_of_interest:\n",
    "        with open(output_path, 'w') as f:\n",
    "            f.writelines(new_lines)\n",
    "        return True\n",
    "    return False\n",
    "\n",
    "\n",
    "copied_count = 0\n",
    "for label_path in tqdm(pseudo_labels):\n",
    "    relative_path = os.path.relpath(label_path, output_base_dir)\n",
    "    output_path = os.path.join(output_dir, relative_path)\n",
    "\n",
    "    os.makedirs(os.path.dirname(output_path), exist_ok=True)\n",
    "\n",
    "    if process_label_file(label_path, output_path):\n",
    "        copied_count += 1\n",
    "\n",
    "print(f\"Processed {len(pseudo_labels)} label files.\")\n",
    "print(f\"Copied {copied_count} label files to {output_dir}\")\n",
    "\n"
   ]
  },
  {
   "cell_type": "code",
   "execution_count": null,
   "id": "604e3ee9",
   "metadata": {},
   "outputs": [],
   "source": [
    "###　Copy Corresponding Images ###"
   ]
  },
  {
   "cell_type": "code",
   "execution_count": null,
   "id": "4dca321a",
   "metadata": {},
   "outputs": [],
   "source": [
    "# Get list of selected labels and images\n",
    "selected_labels = sorted(glob.glob(output_base_dir + '_threshold_' + str(CONF_THRESHOLD) + '_/labels/*/*.txt'))\n",
    "imgs = sorted(glob.glob(base_dir + '/*/*/*.png'))"
   ]
  },
  {
   "cell_type": "code",
   "execution_count": null,
   "id": "08281d85",
   "metadata": {},
   "outputs": [],
   "source": [
    "print(len(selected_labels))\n",
    "print(selected_labels[0])\n",
    "print('###')\n",
    "print(imgs[0])\n",
    "print(len(imgs))"
   ]
  },
  {
   "cell_type": "code",
   "execution_count": null,
   "id": "b647ee4a",
   "metadata": {},
   "outputs": [],
   "source": [
    "# Create a set of image filenames\n",
    "img_basenames = set(os.path.basename(img) for img in imgs)\n",
    "\n",
    "output_img_dir = output_base_dir + '_threshold_' + str(CONF_THRESHOLD) + '_/images'\n",
    "os.makedirs(output_img_dir, exist_ok=True)\n"
   ]
  },
  {
   "cell_type": "code",
   "execution_count": null,
   "id": "4d3db14d",
   "metadata": {},
   "outputs": [],
   "source": [
    "# Copy images corresponding to labels\n",
    "copied_count = 0\n",
    "for label_path in tqdm(selected_labels, desc=\"Copying images\"):\n",
    "    label_basename = os.path.basename(label_path)\n",
    "    img_basename = label_basename.replace('.txt', '.png')\n",
    "    \n",
    "    if img_basename not in img_basenames:\n",
    "        print(f\"Warning: Corresponding image not found for label {label_path}\")\n",
    "        continue\n",
    "    \n",
    "    original_img_path = next(img for img in imgs if os.path.basename(img) == img_basename)\n",
    "\n",
    "    relative_dir = os.path.relpath(os.path.dirname(label_path), output_base_dir + '_threshold_' + str(CONF_THRESHOLD) + '_/labels')\n",
    "    output_img_path = os.path.join(output_img_dir, relative_dir, img_basename)\n",
    "\n",
    "    os.makedirs(os.path.dirname(output_img_path), exist_ok=True)\n",
    "\n",
    "    shutil.copy2(original_img_path, output_img_path)\n",
    "    copied_count += 1\n",
    "\n",
    "print(f\"Processed {len(selected_labels)} label files.\")\n",
    "print(f\"Copied {copied_count} images to {output_img_dir}\")"
   ]
  }
 ],
 "metadata": {
  "kernelspec": {
   "display_name": "Python 3 (ipykernel)",
   "language": "python",
   "name": "python3"
  },
  "language_info": {
   "codemirror_mode": {
    "name": "ipython",
    "version": 3
   },
   "file_extension": ".py",
   "mimetype": "text/x-python",
   "name": "python",
   "nbconvert_exporter": "python",
   "pygments_lexer": "ipython3",
   "version": "3.8.18"
  }
 },
 "nbformat": 4,
 "nbformat_minor": 5
}
